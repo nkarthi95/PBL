{
 "cells": [
  {
   "cell_type": "markdown",
   "metadata": {},
   "source": [
    "# Green buildings and how we build them"
   ]
  },
  {
   "cell_type": "markdown",
   "metadata": {},
   "source": [
    "1. What do we define as a green building? \n",
    "2. Why bother trying to make buildings green compared to other sources of GHG?\n",
    "3. What has been done in the space to incentivize construction of green buildings?\n",
    "4. Examples of green buildings and how they reach their goals\n",
    "5. How do you make a building greener? "
   ]
  },
  {
   "cell_type": "markdown",
   "metadata": {},
   "source": []
  }
 ],
 "metadata": {
  "kernelspec": {
   "display_name": "Python 3",
   "language": "python",
   "name": "python3"
  },
  "language_info": {
   "name": "python",
   "version": "3.10.12"
  },
  "orig_nbformat": 4
 },
 "nbformat": 4,
 "nbformat_minor": 2
}
