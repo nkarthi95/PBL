{
 "cells": [
  {
   "cell_type": "markdown",
   "metadata": {},
   "source": [
    "# Solar cells and how they work"
   ]
  },
  {
   "cell_type": "markdown",
   "metadata": {},
   "source": [
    "Outline\n",
    "1. Who is this article aimed at?\n",
    "2. How do solar cells work?\n",
    "3. What types of solar cells are there?\n",
    "    1. What materials are used to make these cells\n",
    "    2. Challenges to each technology"
   ]
  },
  {
   "cell_type": "markdown",
   "metadata": {},
   "source": []
  }
 ],
 "metadata": {
  "language_info": {
   "name": "python"
  },
  "orig_nbformat": 4
 },
 "nbformat": 4,
 "nbformat_minor": 2
}
